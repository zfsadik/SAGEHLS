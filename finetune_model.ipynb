{
 "cells": [
  {
   "cell_type": "code",
   "execution_count": null,
   "id": "eb34a670-0aa9-4fb1-a806-7fa0d6857692",
   "metadata": {},
   "outputs": [],
   "source": [
    "from unsloth import FastLanguageModel\n",
    "import torch"
   ]
  },
  {
   "cell_type": "code",
   "execution_count": null,
   "id": "8cb09c06-eaa2-49e3-a255-0610dd569fc1",
   "metadata": {},
   "outputs": [],
   "source": [
    "model, tokenizer = FastLanguageModel.from_pretrained(\n",
    "\n",
    "    model_name = \"unsloth/Qwen2.5-Coder-7B-Instruct-bnb-4bit\",\n",
    "    max_seq_length = 2048,\n",
    "    dtype = None,\n",
    "    load_in_4bit = True,\n",
    ")"
   ]
  },
  {
   "cell_type": "code",
   "execution_count": null,
   "id": "8367ffdc-2357-482f-8790-6f49e18bb9cd",
   "metadata": {},
   "outputs": [],
   "source": [
    "model = FastLanguageModel.get_peft_model(\n",
    "    model,\n",
    "    r = 16,\n",
    "    target_modules = [\"q_proj\", \"k_proj\", \"v_proj\", \"o_proj\",\n",
    "                      \"gate_proj\", \"up_proj\", \"down_proj\",],\n",
    "    lora_alpha = 16,\n",
    "    lora_dropout = 0,\n",
    "    bias = \"none\",\n",
    "    use_gradient_checkpointing = \"unsloth\",\n",
    "    random_state = 3407,\n",
    "    use_rslora = False,\n",
    "    loftq_config = None,\n",
    ")"
   ]
  },
  {
   "cell_type": "code",
   "execution_count": 4,
   "id": "b834290e-f51d-46c0-86d6-b4385ba4dfdc",
   "metadata": {},
   "outputs": [],
   "source": [
    "alpaca_prompt = \"\"\"Your role is to act as an expert in HLS C++ code development. You must thoroughly explore each question through a systematic and deliberate thinking process—engaging in cycles of analysis, summarization, exploration, reassessment, reflection, backtracing, and iteration—to develop well-considered solutions. Based on the provided instructions, you are expected to generate precise, optimized, and accurate HLS C++ code that meets the requirements. Additionally, you will be provided with the Abstract Syntax Tree (AST) of the HLS code to assist in generating a more optimized and correct implementation. You should leverage the AST to ensure accuracy, efficiency, and adherence to best practices in hardware synthesis.\n",
    "\n",
    "### Instruction:\n",
    "{}\n",
    "\n",
    "### Input:\n",
    "{}\n",
    "\n",
    "### Response:\n",
    "{}\"\"\"\n",
    "\n",
    "EOS_TOKEN = tokenizer.eos_token\n",
    "def formatting_prompts_func(examples):\n",
    "  texts = []\n",
    "  ast_prompt = \"\\n\\nHere is the AST (Abstract Syntax Tree) of the HLS code to assist in generating an optimized and correct implementation:\\n\\n\" \n",
    "  for instruction, hls_ast, response in zip(examples['hls_instruction'], examples['hls_ast'], examples['hls_code']):\n",
    "      input_text = \"\"\n",
    "      instruction += ast_prompt\n",
    "      instruction += hls_ast\n",
    "      instruction += \"\\n\"\n",
    "      \n",
    "      formatted_text = alpaca_prompt.format(instruction, input_text, response) + EOS_TOKEN\n",
    "      texts.append(formatted_text)\n",
    "\n",
    "\n",
    "  return { \"text\" : texts}\n",
    "\n",
    "\n",
    "from datasets import load_dataset\n",
    "dataset = load_dataset(\"mashnoor/hls-vitis-ast-unverified\", split = \"train\")\n",
    "dataset = dataset.map(formatting_prompts_func, batched = True)"
   ]
  },
  {
   "cell_type": "code",
   "execution_count": null,
   "id": "fcbb65b0-8b9c-4732-81cf-4c99158d83d9",
   "metadata": {},
   "outputs": [],
   "source": [
    "dataset[0]['text']"
   ]
  },
  {
   "cell_type": "code",
   "execution_count": null,
   "id": "948a71dc-3a4d-45f7-be07-f2622071b7c1",
   "metadata": {},
   "outputs": [],
   "source": [
    "from trl import SFTTrainer\n",
    "from transformers import TrainingArguments\n",
    "from unsloth import is_bfloat16_supported\n",
    "\n",
    "trainer = SFTTrainer(\n",
    "    model = model,\n",
    "    tokenizer = tokenizer,\n",
    "    train_dataset = dataset,\n",
    "    dataset_text_field = \"text\",\n",
    "    max_seq_length = 2048,\n",
    "    dataset_num_proc = 2,\n",
    "    packing = False, \n",
    "    args = TrainingArguments(\n",
    "        per_device_train_batch_size = 2,\n",
    "        gradient_accumulation_steps = 4,\n",
    "        warmup_steps = 5,\n",
    "        num_train_epochs = 1, \n",
    "        max_steps = -1,\n",
    "        learning_rate = 2e-4,\n",
    "        fp16 = not is_bfloat16_supported(),\n",
    "        bf16 = is_bfloat16_supported(),\n",
    "        logging_steps = 1,\n",
    "        optim = \"adamw_8bit\",\n",
    "        weight_decay = 0.01,\n",
    "        lr_scheduler_type = \"linear\",\n",
    "        seed = 3407,\n",
    "        output_dir = \"outputs\",\n",
    "        report_to = \"none\",\n",
    "    ),\n",
    ")"
   ]
  },
  {
   "cell_type": "code",
   "execution_count": null,
   "id": "c691d46f-59de-4483-aa53-296a8da8cc4d",
   "metadata": {},
   "outputs": [],
   "source": [
    "gpu_stats = torch.cuda.get_device_properties(0)\n",
    "start_gpu_memory = round(torch.cuda.max_memory_reserved() / 1024 / 1024 / 1024, 3)\n",
    "max_memory = round(gpu_stats.total_memory / 1024 / 1024 / 1024, 3)\n",
    "print(f\"GPU = {gpu_stats.name}. Max memory = {max_memory} GB.\")\n",
    "print(f\"{start_gpu_memory} GB of memory reserved.\")"
   ]
  },
  {
   "cell_type": "code",
   "execution_count": null,
   "id": "fbcc6645-5e47-41a6-9ccd-3be86c0bc5d3",
   "metadata": {
    "scrolled": true
   },
   "outputs": [],
   "source": [
    "trainer_stats = trainer.train()"
   ]
  },
  {
   "cell_type": "code",
   "execution_count": null,
   "id": "41c7dbc6-c463-40cc-87db-0832b31c455d",
   "metadata": {},
   "outputs": [],
   "source": [
    "model.push_to_hub(\"mashnoor/hls-vitis-ast-unverified-qwen-coder-7B\", commit_message=\"First upload\") \n",
    "tokenizer.push_to_hub(\"mashnoor/hls-vitis-ast-unverified-qwen-coder-7B\", commit_message=\"Upload version v1.0\") \n",
    "\n",
    "# model.save_pretrained(\"hls-vitis-unverified-2\")  \n",
    "# tokenizer.save_pretrained(\"hls-vitis-unverified-2\")"
   ]
  },
  {
   "cell_type": "code",
   "execution_count": 11,
   "id": "e1c497b9-6bbc-4cf9-8579-a0f89f880d9f",
   "metadata": {},
   "outputs": [],
   "source": [
    "inputs = tokenizer(\n",
    "[\n",
    "    alpaca_prompt.format(\n",
    "        '''\n",
    "        Your role is to act as an expert in HLS C++ code development. You must thoroughly explore each question through a systematic and deliberate thinking process—engaging in cycles of analysis, summarization, exploration, reassessment, reflection, backtracing, and iteration—to develop well-considered solutions. Based on the provided instructions, you are expected to generate precise, optimized, and accurate HLS C++ code that meets the requirements.\n",
    "\n",
    "        ''',\n",
    "        '''\n",
    "        Make a two bit adder\n",
    "        ''', \n",
    "        \"\", \n",
    "    )\n",
    "], return_tensors = \"pt\").to(\"cuda\")\n",
    "\n",
    "from transformers import TextStreamer\n",
    "text_streamer = TextStreamer(tokenizer)"
   ]
  },
  {
   "cell_type": "code",
   "execution_count": null,
   "id": "b75726d0-be40-46a5-8df5-747f5c3d4d56",
   "metadata": {
    "scrolled": true
   },
   "outputs": [],
   "source": [
    "FastLanguageModel.for_inference(model) # Enable native 2x faster inference\n",
    "_ = model.generate(**inputs, streamer = text_streamer, max_new_tokens = 30000)"
   ]
  }
 ],
 "metadata": {
  "kernelspec": {
   "display_name": "Python 3 (ipykernel)",
   "language": "python",
   "name": "python3"
  },
  "language_info": {
   "codemirror_mode": {
    "name": "ipython",
    "version": 3
   },
   "file_extension": ".py",
   "mimetype": "text/x-python",
   "name": "python",
   "nbconvert_exporter": "python",
   "pygments_lexer": "ipython3",
   "version": "3.12.3"
  }
 },
 "nbformat": 4,
 "nbformat_minor": 5
}
