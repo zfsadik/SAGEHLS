{
 "cells": [
  {
   "cell_type": "code",
   "execution_count": null,
   "metadata": {
    "collapsed": true,
    "id": "M10SfjctWmNn"
   },
   "outputs": [],
   "source": [
    "!pip install unsloth"
   ]
  },
  {
   "cell_type": "code",
   "execution_count": null,
   "metadata": {
    "collapsed": true,
    "id": "0IJDQ7UvWtff"
   },
   "outputs": [],
   "source": [
    "from unsloth import FastLanguageModel\n",
    "import torch\n",
    "max_seq_length = 2048\n",
    "dtype = None\n",
    "load_in_4bit = True\n",
    "model, tokenizer = FastLanguageModel.from_pretrained(\n",
    "    model_name = \"mashnoor/hls-vitis-ast-unverified-qwen-coder-7B\",\n",
    "    max_seq_length = max_seq_length,\n",
    "    dtype = dtype,\n",
    "    load_in_4bit = load_in_4bit,\n",
    ")\n",
    "FastLanguageModel.for_inference(model)"
   ]
  },
  {
   "cell_type": "code",
   "execution_count": null,
   "metadata": {
    "id": "i_xxAEZOXile",
    "scrolled": true
   },
   "outputs": [],
   "source": [
    "alpaca_prompt = \"\"\"You are an expert in HLS C++ code development. You are provided with a design specification written originally for a Verilog module. Your task is to generate a synthesizable and functionally equivalent HLS-C++ implementation based on that specification. The generated code must adhere to high-level synthesis (HLS) best practices and include the following instruction.\n",
    "\n",
    "    \"Function Definition: Define a function or module named TopModule that maps the input and output ports as specified complying with C++ code structure. Ensure the function signature clearly represents each port.\\n\"\n",
    "    \"HLS Interface and Pragmas: Use appropriate HLS pragmas (e.g., for interface definitions and optimizations) to guide the synthesis tool. This may include directives for clock, reset, and data interfaces.\\n\"\n",
    "    \"State Management: For sequential logic (like flip-flops or registers), use static variables to preserve state between function calls, and implement edge-triggered or level-sensitive behavior as needed.\\n\"\n",
    "    \"Behavioral Equivalence: Ensure that all behavioral aspects (such as clock edge detection, asynchronous resets, and any conditional operations) from the original Verilog design are faithfully reproduced in the HLS implementation.\\n\"\n",
    "    \"Code Completeness: Provide a complete, compilable HLS-C++ code snippet that includes necessary header files and comments to clarify the mapping between the original design and the HLS implementation.\"\n",
    "\n",
    "### Instruction:\n",
    "{}\n",
    "\n",
    "### Input:\n",
    "{}\n",
    "\n",
    "### Response:\n",
    "{}\"\"\"\n",
    "inputs = tokenizer(\n",
    "[\n",
    "    alpaca_prompt.format(\n",
    "        # add your prompt here keeping the module name TopModule\n",
    "        # one example from verilog-eval is added here\n",
    "        '''\n",
    "The game Lemmings involves critters with fairly simple brains. So simple\n",
    "that we are going to model it using a finite state machine. In the\n",
    "Lemmings' 2D world, Lemmings can be in one of two states: walking left\n",
    "(walk_left is 1) or walking right (walk_right is 1). It will switch\n",
    "directions if it hits an obstacle. In particular, if a Lemming is bumped\n",
    "on the left (by receiving a 1 on bump_left), it will walk right. If it's\n",
    "bumped on the right (by receiving a 1 on bump_right), it will walk left.\n",
    "If it's bumped on both sides at the same time, it will still switch\n",
    "directions.\n",
    "\n",
    "In addition to walking left and right and changing direction when bumped,\n",
    "when ground=0, the Lemming will fall and say \"aaah!\". When the ground\n",
    "reappears (ground=1), the Lemming will resume walking in the same\n",
    "direction as before the fall. Being bumped while falling does not affect\n",
    "the walking direction, and being bumped in the same cycle as ground\n",
    "disappears (but not yet falling), or when the ground reappears while\n",
    "still falling, also does not affect the walking direction.\n",
    "\n",
    "In addition to walking and falling, Lemmings can sometimes be told to do\n",
    "useful things, like dig (it starts digging when dig=1). A Lemming can dig\n",
    "if it is currently walking on ground (ground=1 and not falling), and will\n",
    "continue digging until it reaches the other side (ground=0). At that\n",
    "point, since there is no ground, it will fall (aaah!), then continue\n",
    "walking in its original direction once it hits ground again. As with\n",
    "falling, being bumped while digging has no effect, and being told to dig\n",
    "when falling or when there is no ground is ignored. (In other words, a\n",
    "walking Lemming can fall, dig, or switch directions. If more than one of\n",
    "these conditions are satisfied, fall has higher precedence than dig,\n",
    "which has higher precedence than switching directions.)\n",
    "\n",
    "Implement a Moore state machine that models this behaviour. areset is\n",
    "positive edge triggered asynchronous reseting the Lemming machine to walk\n",
    "left.\n",
    "\n",
    "module TopModule (\n",
    "  input clk,\n",
    "  input areset,\n",
    "  input bump_left,\n",
    "  input bump_right,\n",
    "  input ground,\n",
    "  input dig,\n",
    "  output walk_left,\n",
    "  output walk_right,\n",
    "  output aaah,\n",
    "  output digging\n",
    ");\n",
    "        ''', # instruction\n",
    "        '''\n",
    "\n",
    "        ''', # input\n",
    "        \"\", # output - leave this blank for generation!\n",
    "    )\n",
    "], return_tensors = \"pt\").to(\"cuda\")\n",
    "\n",
    "from transformers import TextStreamer\n",
    "text_streamer = TextStreamer(tokenizer)\n",
    "_ = model.generate(**inputs, streamer = text_streamer, max_new_tokens = 30000, temperature=1.0, do_sample=True)"
   ]
  }
 ],
 "metadata": {
  "accelerator": "GPU",
  "colab": {
   "gpuType": "T4",
   "provenance": [
    {
     "file_id": "1aJZdwlB9TKMKmS3jEF2phPwhBfklQ3nw",
     "timestamp": 1754337569743
    }
   ]
  },
  "kernelspec": {
   "display_name": "Python 3 (ipykernel)",
   "language": "python",
   "name": "python3"
  },
  "language_info": {
   "codemirror_mode": {
    "name": "ipython",
    "version": 3
   },
   "file_extension": ".py",
   "mimetype": "text/x-python",
   "name": "python",
   "nbconvert_exporter": "python",
   "pygments_lexer": "ipython3",
   "version": "3.12.3"
  }
 },
 "nbformat": 4,
 "nbformat_minor": 0
}
